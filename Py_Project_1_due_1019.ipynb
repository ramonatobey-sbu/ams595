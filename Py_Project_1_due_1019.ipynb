{
  "cells": [
    {
      "cell_type": "markdown",
      "metadata": {
        "id": "view-in-github",
        "colab_type": "text"
      },
      "source": [
        "<a href=\"https://colab.research.google.com/github/ramonatobey-sbu/ams595/blob/main/Py_Project_1_due_1019.ipynb\" target=\"_parent\"><img src=\"https://colab.research.google.com/assets/colab-badge.svg\" alt=\"Open In Colab\"/></a>"
      ]
    },
    {
      "cell_type": "markdown",
      "metadata": {
        "id": "xq__bChjD04e"
      },
      "source": [
        "# Python Assignment 1"
      ]
    },
    {
      "cell_type": "markdown",
      "metadata": {
        "id": "y7j2V0UDMYLG"
      },
      "source": [
        "⏱⏱⏱**Due: 10/19/2025 11:59:59 PM** ⏱⏱⏱\n",
        "\n",
        "Submit this notebook file and upload it to your git repo. Include a link to your git repo while submitting this file to Brightspace.\n",
        "\n",
        "You are not allowed to use chatgpt or any LLM in this assignment.\n",
        "Cooperation is allowed and encouraged; however, you must write up and submit your own work. If you cooperate with others, you must list their names here."
      ]
    },
    {
      "cell_type": "markdown",
      "metadata": {
        "id": "SUS30Ew9D04n"
      },
      "source": [
        "Total points: 100 (equivalent to 20 points after conversion)"
      ]
    },
    {
      "cell_type": "markdown",
      "metadata": {
        "id": "b_bgT3b2GYTB"
      },
      "source": [
        "## 0. Data Types, Structures, Indexing, and Slicing"
      ]
    },
    {
      "cell_type": "markdown",
      "metadata": {
        "id": "6yI1Jt57IwV2"
      },
      "source": [
        "Read the lecutre note as well as [this page](https://www.geeksforgeeks.org/mutable-vs-immutable-objects-in-python/) and [this page](https://www.geeksforgeeks.org/difference-between-shallow-and-deep-copy-of-a-class/). Complete the following questions.\n",
        "\n",
        "(5 points) Give some examples (at least 2) of mutable objects in Python.\n",
        "\n",
        "***Answer:***\n",
        "One mutable object in Python is a list. Another one is a dictionary.  \n",
        "\n",
        "---\n",
        "\n",
        "\n",
        "\n",
        "(5 points) Give some examples (at least 2) of immutable objects in Python.\n",
        "\n",
        "***Answer:***\n",
        "Two immutable objects in Python are an integer and a string.  \n",
        "\n",
        "\n",
        "---\n",
        "\n",
        "\n",
        "\n",
        "(10 points) State the differences between assignment, shallow copy, and deep copy. Any reasonable answer will get full credit.\n",
        "\n",
        "***Answer:***\n",
        " When things are assigned to a deep copy they are not reflected in the original copy, which is the opposit of what is true for a shallow copy. Assignment also differs if the object is mutable or immutable.\n",
        "\n",
        "---\n",
        "\n",
        "\n",
        "\n"
      ]
    },
    {
      "cell_type": "markdown",
      "metadata": {
        "id": "OA8DxcrrGqZD"
      },
      "source": [
        "(10 points) Using string methods find() and rfind(), find the index of the first digit (i.e. 0) and the index of the last digit (5) in the string below. Then, using string slicing, extract the number (i.e. 0.595595) from this string and convert the extracted value to a floating point number. Print out this float to the console."
      ]
    },
    {
      "cell_type": "code",
      "execution_count": null,
      "metadata": {
        "id": "AUuFXXWqG4D3",
        "colab": {
          "base_uri": "https://localhost:8080/"
        },
        "outputId": "40169f7f-edf3-4d42-9514-1f5e2d93c2a0"
      },
      "outputs": [
        {
          "output_type": "stream",
          "name": "stdout",
          "text": [
            "0.59559\n"
          ]
        }
      ],
      "source": [
        "text = \"F-DGFDDSFGFD-CFDSHdstgfdfe: tfsd  aaa bdsf 0.595595 fdsgfdbc\";\n",
        "firstDigit = text.find('0')\n",
        "lastDigit = text.rfind('5')\n",
        "stringNumber = text[firstDigit:lastDigit]\n",
        "floatNumber = float(stringNumber)\n",
        "print(floatNumber)"
      ]
    },
    {
      "cell_type": "markdown",
      "metadata": {
        "id": "cnCljYgpD04p"
      },
      "source": [
        "## 1. Conditional Statements\n",
        "\n",
        "(10 points)\n",
        "Translate the following MATLAB code into Python using `if-elif-else`.\n",
        "```\n",
        "n = input('Enter a number: ');\n",
        "\n",
        "switch n\n",
        "    case -1\n",
        "        disp('negative one')\n",
        "    case 0\n",
        "        disp('zero')\n",
        "    case 1\n",
        "        disp('positive one')\n",
        "    otherwise\n",
        "        disp('other value')\n",
        "end\n",
        "```"
      ]
    },
    {
      "cell_type": "code",
      "execution_count": null,
      "metadata": {
        "collapsed": true,
        "id": "9d8vl5zjD04q",
        "colab": {
          "base_uri": "https://localhost:8080/"
        },
        "outputId": "12ce44d3-a19b-4bcb-d7ef-b1796f077e30"
      },
      "outputs": [
        {
          "output_type": "stream",
          "name": "stdout",
          "text": [
            "Enter a number: 2\n",
            "other value\n"
          ]
        }
      ],
      "source": [
        "n = float(input(\"Enter a number: \"))\n",
        "\n",
        "if n == -1:\n",
        "  print(\"negative one\")\n",
        "elif n == 0:\n",
        "  print(\"zero\")\n",
        "elif n == 1:\n",
        "  print(\"positive one\")\n",
        "else:\n",
        "  print(\"other value\")"
      ]
    },
    {
      "cell_type": "markdown",
      "metadata": {
        "id": "sW9XiUPpD04s"
      },
      "source": [
        "## 2. While Loops\n",
        "\n",
        "(10 points) Write a Python program that calculates the factorial of a given number (you can assume an positive integer) using a while loop. Display the result to the console."
      ]
    },
    {
      "cell_type": "code",
      "execution_count": null,
      "metadata": {
        "colab": {
          "base_uri": "https://localhost:8080/"
        },
        "collapsed": true,
        "id": "CRCERx8uD04t",
        "outputId": "45206062-9980-41cc-9bdd-7d27a758bd79"
      },
      "outputs": [
        {
          "output_type": "stream",
          "name": "stdout",
          "text": [
            "enter a positive integer: 4\n",
            "24\n"
          ]
        }
      ],
      "source": [
        "\n",
        "n = int(input(\"enter a positive integer: \"))\n",
        "#because it says we can assume a positive integer will be given I am not going\n",
        "#to write any code which checks if it really is or not\n",
        "\n",
        "#because I am going to be using a while loop I need to define a counter which\n",
        "#makes the loop run while the counter is less than n, and a product to store\n",
        "#where we are at in calculating the factorial\n",
        "\n",
        "counter = int(0)\n",
        "product = int(1)\n",
        "while counter < n:\n",
        "  counter = counter + 1\n",
        "  product = product * counter\n",
        "#display it to the console\n",
        "print(product)\n",
        "\n",
        "# test cases\n",
        "# n = 17, Output: 355687428096000\n",
        "# n = 13, Output: 6227020800"
      ]
    },
    {
      "cell_type": "markdown",
      "metadata": {
        "id": "ZQ5SVMq6D04w"
      },
      "source": [
        "## 3. Functions\n",
        "\n",
        "(10 points) Write a function that determines if a number is prime."
      ]
    },
    {
      "cell_type": "code",
      "execution_count": null,
      "metadata": {
        "colab": {
          "base_uri": "https://localhost:8080/"
        },
        "id": "6rGP5G3_D04x",
        "outputId": "e4a45661-76fb-45fd-b182-82d627c60b93"
      },
      "outputs": [
        {
          "output_type": "stream",
          "name": "stdout",
          "text": [
            "false\n",
            "false\n",
            "true\n"
          ]
        }
      ],
      "source": [
        "#obviously we cannot compute this for every number so I need the inputted number\n",
        "#to not be too high\n",
        "import math\n",
        "def is_prime(n):\n",
        "  if n == 1:\n",
        "    return str(\"false\")\n",
        "  elif n == 2:\n",
        "    return str(\"true\")\n",
        "  else:\n",
        "    for i in range(2, n): #I defined a flexible range even though it should\n",
        "    #usually end before reaching the max number of loops\n",
        "      if (n % i) == 0:\n",
        "        return str(\"false\")\n",
        "        break\n",
        "      if i > math.sqrt(n):\n",
        "        return str(\"true\")\n",
        "        break\n",
        "\n",
        "\n",
        "\n",
        " #test cases\n",
        "print(is_prime(4))      # Output: True\n",
        "print(is_prime(10))     # Output: False\n",
        "print(is_prime(17))     # Output: True"
      ]
    },
    {
      "cell_type": "markdown",
      "metadata": {
        "id": "Z6qg-fpQD04u"
      },
      "source": [
        "## 4. List Comprehension\n",
        "\n",
        "(10 points) Write a Python function called `prime_factors` that takes a relatively small integer as input and returns a list of its distinct prime factors. The function should use list comprehension to generate the list of distinct prime factors. You may use the function is_prime() defined in Q3.\n"
      ]
    },
    {
      "cell_type": "code",
      "execution_count": null,
      "metadata": {
        "colab": {
          "base_uri": "https://localhost:8080/"
        },
        "id": "2hSCjYlOD04v",
        "outputId": "655788be-ff27-43ba-8834-3a9da634e957"
      },
      "outputs": [
        {
          "output_type": "stream",
          "name": "stdout",
          "text": [
            "[2, 3, 5]\n",
            "[2, 7]\n",
            "[2, 3, 11]\n",
            "[2, 29]\n"
          ]
        }
      ],
      "source": [
        "def prime_factors(n):\n",
        "  #since I need to do this with list comprehension I will use my past function\n",
        "  #is_prime on the items in the list\n",
        "  intList = list(range(2,n))\n",
        "  factorList = [x for x in intList if n % x == 0]\n",
        "  primeFactorList = [y for y in factorList if is_prime(y) == \"true\"]\n",
        "  return primeFactorList\n",
        "\n",
        "\n",
        "\n",
        "\n",
        "# test cases\n",
        "print(prime_factors(30))  # Output: [2, 3, 5]\n",
        "print(prime_factors(56))  # Output: [2, 7]\n",
        "print(prime_factors(198))  # Output: [2, 3, 11]\n",
        "print(prime_factors(464))  # Output: [2, 29]"
      ]
    },
    {
      "cell_type": "markdown",
      "metadata": {
        "id": "dw4kZZCiD040"
      },
      "source": [
        "## 5. Recursive Functions\n",
        "(25 points) Write a function that uses recursion to generate the $n$th row of the Pascal's triangle.\n",
        "```\n",
        "              1\n",
        "           1     1\n",
        "        1     2     1\n",
        "      1    3     3     1\n",
        "   1    4     6     4    1\n",
        "1     5    10    10    5    1\n",
        "...\n",
        "...\n",
        "...\n",
        "```"
      ]
    },
    {
      "cell_type": "code",
      "execution_count": 13,
      "metadata": {
        "colab": {
          "base_uri": "https://localhost:8080/"
        },
        "id": "V8QFB_gKD040",
        "outputId": "1f72b4e4-7a0c-4490-f500-c2cc38de3588"
      },
      "outputs": [
        {
          "output_type": "stream",
          "name": "stdout",
          "text": [
            "[1, 5, 10, 10, 5, 1]\n"
          ]
        }
      ],
      "source": [
        "\n",
        "#row n = [n-1(1),n-1(1)+n-1(2),n-1(2)+n-1(3),...,n-1(n-2)+n-1(n-1),n-1(n-1)]\n",
        "def pascal(n):\n",
        "  if n == 1:\n",
        "    pascalRowN = [1]\n",
        "  else:\n",
        "    pascalRowNMinusOne = pascal(n-1)\n",
        "    pascalRowN = [1]\n",
        "    for i in range(1,n-1):\n",
        "      pascalRowN.append(pascalRowNMinusOne[i-1] + pascalRowNMinusOne[i])\n",
        "    pascalRowN.append(1)\n",
        "  return pascalRowN\n",
        "\n",
        "\n",
        "\n",
        "# test case\n",
        "print(pascal(6))  # output [1, 5, 10, 10, 5, 1]"
      ]
    },
    {
      "cell_type": "markdown",
      "metadata": {
        "id": "eZytgm0qD041"
      },
      "source": [
        "Rewrite the above function using only `while` or `for` loops instead of recursion."
      ]
    },
    {
      "cell_type": "code",
      "execution_count": 10,
      "metadata": {
        "id": "UZ8f-akaD041",
        "colab": {
          "base_uri": "https://localhost:8080/"
        },
        "outputId": "1ad5bd0e-934b-46db-9f64-a0029fcc82b5"
      },
      "outputs": [
        {
          "output_type": "stream",
          "name": "stdout",
          "text": [
            "[1, 5, 10, 10, 5, 1]\n"
          ]
        }
      ],
      "source": [
        "#As I learned in my probability class, the rows correspond to n-1 choose i\n",
        "#where i = 0-n\n",
        "def factorial(n):\n",
        "  counter = int(0)\n",
        "  product = int(1)\n",
        "  while counter < n:\n",
        "    counter = counter + 1\n",
        "    product = product * counter\n",
        "  return product\n",
        "def pascal_by_loops(n):\n",
        "  if n == 1:\n",
        "    rowN = [1]\n",
        "  else: #I can use my factorial code from before here\n",
        "    rowN = [1]\n",
        "    for i in range(1,n):\n",
        "      floatDigit = factorial(n-1)/(factorial(i)*factorial(n-1-i))\n",
        "      rowN.append(int(floatDigit))\n",
        "    rowN\n",
        "  return rowN\n",
        "\n",
        "\n",
        "\n",
        "print(pascal_by_loops(6))"
      ]
    },
    {
      "cell_type": "markdown",
      "metadata": {
        "id": "HvHD6QHzVo9I"
      },
      "source": [
        "\n",
        "\n",
        "---\n",
        "\n",
        "\n",
        "（5 points) good coding practice and properly submitting your work to GitHub."
      ]
    }
  ],
  "metadata": {
    "anaconda-cloud": {},
    "colab": {
      "provenance": [],
      "collapsed_sections": [
        "ZQ5SVMq6D04w"
      ],
      "include_colab_link": true
    },
    "kernelspec": {
      "display_name": "Python 3",
      "language": "python",
      "name": "python3"
    },
    "language_info": {
      "codemirror_mode": {
        "name": "ipython",
        "version": 3
      },
      "file_extension": ".py",
      "mimetype": "text/x-python",
      "name": "python",
      "nbconvert_exporter": "python",
      "pygments_lexer": "ipython3",
      "version": "3.7.4"
    }
  },
  "nbformat": 4,
  "nbformat_minor": 0
}